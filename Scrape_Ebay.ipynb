{
 "cells": [
  {
   "cell_type": "code",
   "execution_count": 62,
   "id": "eb7dae85",
   "metadata": {},
   "outputs": [],
   "source": [
    "import pandas as pd\n",
    "import numpy as np\n",
    "import requests\n",
    "import re\n",
    "\n",
    "from bs4 import BeautifulSoup"
   ]
  },
  {
   "cell_type": "code",
   "execution_count": 27,
   "id": "e80e684b",
   "metadata": {},
   "outputs": [],
   "source": [
    "response = requests.get(\"https://www.ebay.co.uk/sch/i.html?_dmd=2&iconV2Request=true&_ssn=monster_racking&store_cat=0&store_name=monsterracking&_oac=1&_ipg=192\")\n",
    "page = BeautifulSoup(response.text, 'html.parser')"
   ]
  },
  {
   "cell_type": "code",
   "execution_count": 28,
   "id": "b7358cb8",
   "metadata": {},
   "outputs": [],
   "source": [
    "item_count = int(re.findall(r'\\d+', page.find('h1', class_=\"srp-controls__count-heading\").text)[0])"
   ]
  },
  {
   "cell_type": "code",
   "execution_count": 29,
   "id": "8819cc4d",
   "metadata": {},
   "outputs": [],
   "source": [
    "the_products = page.find_all('li', class_ = 's-item s-item__pl-on-bottom')"
   ]
  },
  {
   "cell_type": "code",
   "execution_count": 30,
   "id": "570aabbd",
   "metadata": {},
   "outputs": [
    {
     "data": {
      "text/plain": [
       "'Garage Racking 5 Tier Shelving Unit Boltless Heavy Duty Metal Shelf Shed Storage'"
      ]
     },
     "execution_count": 30,
     "metadata": {},
     "output_type": "execute_result"
    }
   ],
   "source": [
    "the_products[1].find('div', class_='s-item__image').find('img')['alt'] ## name"
   ]
  },
  {
   "cell_type": "code",
   "execution_count": 31,
   "id": "5cfa4a52",
   "metadata": {},
   "outputs": [
    {
     "data": {
      "text/plain": [
       "'https://www.ebay.co.uk/itm/293284972976?hash=item44492589b0:g:IBsAAOSwmXtdqcyu'"
      ]
     },
     "execution_count": 31,
     "metadata": {},
     "output_type": "execute_result"
    }
   ],
   "source": [
    "the_products[1].find('div', class_='s-item__image').find('a')['href'] ## link"
   ]
  },
  {
   "cell_type": "code",
   "execution_count": 32,
   "id": "809fb438",
   "metadata": {},
   "outputs": [
    {
     "data": {
      "text/plain": [
       "'£11.99 to £79.99'"
      ]
     },
     "execution_count": 32,
     "metadata": {},
     "output_type": "execute_result"
    }
   ],
   "source": [
    "the_products[1].find('div', class_='s-item__detail s-item__detail--primary').find('span', class_='s-item__price').text"
   ]
  },
  {
   "cell_type": "code",
   "execution_count": 42,
   "id": "e73779bb",
   "metadata": {},
   "outputs": [
    {
     "data": {
      "text/plain": [
       "<li class=\"s-item s-item__pl-on-bottom\" data-view=\"mi:1686|iid:5\"><div class=\"s-item__wrapper clearfix\"><div class=\"s-item__image-section\"><div class=\"s-item__image\"><a _sp=\"p3658866.m1686.l7400\" aria-hidden=\"true\" data-track='{\"eventFamily\":\"LST\",\"eventAction\":\"ACTN\",\"actionKind\":\"NAVSRC\",\"actionKinds\":[\"NAVSRC\"],\"operationId\":\"3658866\",\"flushImmediately\":false,\"eventProperty\":{\"parentrq\":\"43bb66b117d0a77e666a1365fff5d6ca\",\"pageci\":\"dbe66659-4af7-11ec-84dd-2a0b4c3464f8\",\"moduledtl\":\"mi:1686|iid:5|li:7400|luid:1|scen:Listings\"}}' href=\"https://www.ebay.co.uk/itm/293284972976?hash=item44492589b0:g:IBsAAOSwmXtdqcyu\" tabindex=\"-1\"><div class=\"s-item__image-wrapper\"><div class=\"s-item__image-helper\"></div><img alt=\"Garage Racking 5 Tier Shelving Unit Boltless Heavy Duty Metal Shelf Shed Storage\" class=\"s-item__image-img\" loading=\"eager\" onerror=\"window.SRP.metrics.imageLoadError.count++; \" onload=\";if(this.width === 80 &amp;&amp; this.height === 80) {window.SRP.metrics.imageEmptyError.count++;}\" src=\"https://i.ebayimg.com/thumbs/images/g/IBsAAOSwmXtdqcyu/s-l225.jpg\"/></div></a></div></div><div class=\"s-item__info clearfix\"><a _sp=\"p3658866.m1686.l7400\" class=\"s-item__link\" data-track='{\"eventFamily\":\"LST\",\"eventAction\":\"ACTN\",\"actionKind\":\"NAVSRC\",\"actionKinds\":[\"NAVSRC\"],\"operationId\":\"3658866\",\"flushImmediately\":false,\"eventProperty\":{\"parentrq\":\"43bb66b117d0a77e666a1365fff5d6ca\",\"pageci\":\"dbe66659-4af7-11ec-84dd-2a0b4c3464f8\",\"moduledtl\":\"mi:1686|iid:5|li:7400|luid:1|scen:Listings\"}}' href=\"https://www.ebay.co.uk/itm/293284972976?hash=item44492589b0:g:IBsAAOSwmXtdqcyu\"><h3 class=\"s-item__title s-item__title--with-icon\">Garage Racking 5 Tier Shelving Unit Boltless Heavy Duty Metal Shelf Shed Storage<span class=\"clipped\">eBay Premium Service</span><svg aria-hidden=\"true\" height=\"19\" width=\"19\"><use xlink:href=\"#TOP_RATED_PLUS_BLUE_ICON\"></use></svg></h3></a><div class=\"s-item__subtitle\"><span class=\"SECONDARY_INFO\">Brand new</span></div><div class=\"s-item__details clearfix\"><div class=\"s-item__detail s-item__detail--primary\"><span class=\"s-item__price\">£11.99<span class=\"DEFAULT\"> to </span>£79.99</span></div><div class=\"s-item__detail s-item__detail--primary\"><span aria-label=\"\" class=\"s-item__purchase-options-with-icon\">Buy it now</span></div><div class=\"s-item__detail s-item__detail--primary\"><span class=\"s-item__shipping s-item__logisticsCost\">Postage not specified</span></div><div class=\"s-item__detail s-item__detail--primary\"><span class=\"s-item__location s-item__itemLocation\">from United Kingdom</span></div><div class=\"s-item__detail s-item__detail--primary\"><span aria-label=\"\" class=\"s-item__hotness s-item__itemHotness\"><span class=\"BOLD\">1,181+ sold</span></span></div><div class=\"s-item__detail s-item__detail--primary\"><span class=\"s-item__sep\"> <span role=\"text\"><span class=\"s-d6cnx6z\">S⁣</span><span class=\"s-d6cnx6z\">p⁣</span><span class=\"s-d6cnx6z\">5⁣</span><span class=\"s-d6cnx6z\">o⁣</span><span class=\"s-d6cnx6z\">H⁣</span><span class=\"s-d6cnx6z\">n⁣</span><span class=\"s-d6cnx6z\">s⁣</span><span class=\"s-d6cnx6z\">o⁣</span><span class=\"s-d6cnx6z\">r⁣</span><span class=\"s-ga6ejff\">\t⁣</span><span class=\"s-d6cnx6z\">e⁣</span><span class=\"s-d6cnx6z\">d⁣</span><span class=\"s-d6cnx6z\">E⁣</span><span class=\"s-d6cnx6z\">U⁣</span><span class=\"s-ga6ejff\">\t⁣</span><span class=\"s-d6cnx6z\">I⁣</span><span class=\"s-d6cnx6z\">⁣</span><span class=\"s-d6cnx6z\">⁣</span><span class=\"s-d6cnx6z\">K⁣</span><span class=\"s-ga6ejff\">\t⁣</span><span class=\"s-d6cnx6z\">⁣</span><span class=\"s-d6cnx6z\">T⁣</span><span class=\"s-d6cnx6z\">E⁣</span><span class=\"s-ga6ejff\">\t⁣</span><span class=\"s-d6cnx6z\">⁣</span><span class=\"s-d6cnx6z\">⁣</span><span class=\"s-d6cnx6z\">⁣</span><span class=\"s-d6cnx6z\">K⁣</span></span></span><span class=\"s-item__space_bar\"></span></div></div></div></div></li>"
      ]
     },
     "execution_count": 42,
     "metadata": {},
     "output_type": "execute_result"
    }
   ],
   "source": [
    "the_products[1]"
   ]
  },
  {
   "cell_type": "code",
   "execution_count": 69,
   "id": "7e391f10",
   "metadata": {},
   "outputs": [],
   "source": [
    "products = []\n",
    "\n",
    "for i in range(1, len(the_products)):\n",
    "    product_name = the_products[i].find('div', class_='s-item__image').find('img')['alt'] ## name\n",
    "    product_link = the_products[i].find('div', class_='s-item__image').find('a')['href'] ## link\n",
    "    try: \n",
    "        product_rating = the_products[i].find('div', class_='x-star-rating').find('span', class_='clipped').text\n",
    "    except:  \n",
    "        product_rating = 'No Ratings'\n",
    "    product_price = the_products[i].find('div', class_='s-item__detail s-item__detail--primary').find('span', class_='s-item__price').text\n",
    "    product = [product_name, product_link, product_price, product_rating]\n",
    "    products.append(product)\n",
    "    \n",
    "df = pd.DataFrame(products, columns = ['product_name', 'link', 'price', 'rating'])"
   ]
  },
  {
   "cell_type": "code",
   "execution_count": 70,
   "id": "824b7f20",
   "metadata": {},
   "outputs": [
    {
     "data": {
      "text/html": [
       "<div>\n",
       "<style scoped>\n",
       "    .dataframe tbody tr th:only-of-type {\n",
       "        vertical-align: middle;\n",
       "    }\n",
       "\n",
       "    .dataframe tbody tr th {\n",
       "        vertical-align: top;\n",
       "    }\n",
       "\n",
       "    .dataframe thead th {\n",
       "        text-align: right;\n",
       "    }\n",
       "</style>\n",
       "<table border=\"1\" class=\"dataframe\">\n",
       "  <thead>\n",
       "    <tr style=\"text-align: right;\">\n",
       "      <th></th>\n",
       "      <th>product_name</th>\n",
       "      <th>link</th>\n",
       "      <th>price</th>\n",
       "      <th>rating</th>\n",
       "    </tr>\n",
       "  </thead>\n",
       "  <tbody>\n",
       "    <tr>\n",
       "      <th>0</th>\n",
       "      <td>Garage Racking 5 Tier Shelving Unit Boltless H...</td>\n",
       "      <td>https://www.ebay.co.uk/itm/293284972976?hash=i...</td>\n",
       "      <td>£11.99 to £79.99</td>\n",
       "      <td>No Ratings</td>\n",
       "    </tr>\n",
       "    <tr>\n",
       "      <th>1</th>\n",
       "      <td>Garage Racking Storage Shelving Unit Shelves S...</td>\n",
       "      <td>https://www.ebay.co.uk/itm/293499318426?hash=i...</td>\n",
       "      <td>£9.99 to £389.99</td>\n",
       "      <td>No Ratings</td>\n",
       "    </tr>\n",
       "    <tr>\n",
       "      <th>2</th>\n",
       "      <td>Pull Out Wire Baskets Kitchen Cabinet Soft Clo...</td>\n",
       "      <td>https://www.ebay.co.uk/itm/142874332315?hash=i...</td>\n",
       "      <td>£59.99 to £169.99</td>\n",
       "      <td>No Ratings</td>\n",
       "    </tr>\n",
       "    <tr>\n",
       "      <th>3</th>\n",
       "      <td>Workbench Garage DIY Work Tools Bench Station ...</td>\n",
       "      <td>https://www.ebay.co.uk/itm/143236551281?epid=1...</td>\n",
       "      <td>£49.99</td>\n",
       "      <td>4.5 out of 5 stars.</td>\n",
       "    </tr>\n",
       "    <tr>\n",
       "      <th>4</th>\n",
       "      <td>Garage Racking Galvanised Steel Storage Shelvi...</td>\n",
       "      <td>https://www.ebay.co.uk/itm/293499466747?hash=i...</td>\n",
       "      <td>£4.99 to £149.99</td>\n",
       "      <td>No Ratings</td>\n",
       "    </tr>\n",
       "    <tr>\n",
       "      <th>5</th>\n",
       "      <td>Filing Cabinet Steel Office Furniture Lock Cup...</td>\n",
       "      <td>https://www.ebay.co.uk/itm/292305038394?hash=i...</td>\n",
       "      <td>£139.99 to £189.99</td>\n",
       "      <td>No Ratings</td>\n",
       "    </tr>\n",
       "    <tr>\n",
       "      <th>6</th>\n",
       "      <td>Metal Lockers Steel Staff Storage Lockable Gym...</td>\n",
       "      <td>https://www.ebay.co.uk/itm/142861576871?hash=i...</td>\n",
       "      <td>£99.99 to £399.99</td>\n",
       "      <td>No Ratings</td>\n",
       "    </tr>\n",
       "    <tr>\n",
       "      <th>7</th>\n",
       "      <td>Heavy Duty Racking Garage Shelving Warehouse 1...</td>\n",
       "      <td>https://www.ebay.co.uk/itm/293943378320?epid=2...</td>\n",
       "      <td>£9.99 to £109.99</td>\n",
       "      <td>No Ratings</td>\n",
       "    </tr>\n",
       "    <tr>\n",
       "      <th>8</th>\n",
       "      <td>Workbench With Pegboard Drawer Tool Garage Sto...</td>\n",
       "      <td>https://www.ebay.co.uk/itm/373145077655?hash=i...</td>\n",
       "      <td>£89.99 to £99.99</td>\n",
       "      <td>No Ratings</td>\n",
       "    </tr>\n",
       "    <tr>\n",
       "      <th>9</th>\n",
       "      <td>Van Racking Metal Storage System Tool Shelving...</td>\n",
       "      <td>https://www.ebay.co.uk/itm/142874480909?hash=i...</td>\n",
       "      <td>£699.99 to £1,059.99</td>\n",
       "      <td>No Ratings</td>\n",
       "    </tr>\n",
       "    <tr>\n",
       "      <th>10</th>\n",
       "      <td>Garage Shelving 120cm Grey Shed Shelves/Wide M...</td>\n",
       "      <td>https://www.ebay.co.uk/itm/373754081984?hash=i...</td>\n",
       "      <td>£79.99 to £309.99</td>\n",
       "      <td>No Ratings</td>\n",
       "    </tr>\n",
       "    <tr>\n",
       "      <th>11</th>\n",
       "      <td>Van Racking Storage Shelving System Ply Tool R...</td>\n",
       "      <td>https://www.ebay.co.uk/itm/143218718746?hash=i...</td>\n",
       "      <td>£109.99 to £219.99</td>\n",
       "      <td>No Ratings</td>\n",
       "    </tr>\n",
       "    <tr>\n",
       "      <th>12</th>\n",
       "      <td>Garage Shelving Heavy Duty Racking Unit Boltle...</td>\n",
       "      <td>https://www.ebay.co.uk/itm/294220222858?hash=i...</td>\n",
       "      <td>£139.99 to £149.99</td>\n",
       "      <td>No Ratings</td>\n",
       "    </tr>\n",
       "    <tr>\n",
       "      <th>13</th>\n",
       "      <td>Swing Gate Opener Electric Operator Automatic ...</td>\n",
       "      <td>https://www.ebay.co.uk/itm/373673499503?hash=i...</td>\n",
       "      <td>£289.99</td>\n",
       "      <td>No Ratings</td>\n",
       "    </tr>\n",
       "    <tr>\n",
       "      <th>14</th>\n",
       "      <td>Garage Shelves Shelving 5 Tier Racking Boltles...</td>\n",
       "      <td>https://www.ebay.co.uk/itm/371216224074?hash=i...</td>\n",
       "      <td>£39.99 to £219.99</td>\n",
       "      <td>No Ratings</td>\n",
       "    </tr>\n",
       "    <tr>\n",
       "      <th>15</th>\n",
       "      <td>Hairpin Table Legs 4 Set Furniture Bench Antiq...</td>\n",
       "      <td>https://www.ebay.co.uk/itm/373713697649?hash=i...</td>\n",
       "      <td>£22.99 to £52.99</td>\n",
       "      <td>No Ratings</td>\n",
       "    </tr>\n",
       "    <tr>\n",
       "      <th>16</th>\n",
       "      <td>6 x Bay Connectors Garage Racking Clips Wareho...</td>\n",
       "      <td>https://www.ebay.co.uk/itm/371338964301?hash=i...</td>\n",
       "      <td>£6.99 to £9.99</td>\n",
       "      <td>No Ratings</td>\n",
       "    </tr>\n",
       "    <tr>\n",
       "      <th>17</th>\n",
       "      <td>4 x Hairpin Table Legs Premium Furniture  FREE...</td>\n",
       "      <td>https://www.ebay.co.uk/itm/372204605100?hash=i...</td>\n",
       "      <td>£28.99 to £35.99</td>\n",
       "      <td>No Ratings</td>\n",
       "    </tr>\n",
       "    <tr>\n",
       "      <th>18</th>\n",
       "      <td>3 Garage Racking Shelving 5 Tier Boltless Heav...</td>\n",
       "      <td>https://www.ebay.co.uk/itm/293128480741?epid=8...</td>\n",
       "      <td>£5.99 to £109.99</td>\n",
       "      <td>5.0 out of 5 stars.</td>\n",
       "    </tr>\n",
       "    <tr>\n",
       "      <th>19</th>\n",
       "      <td>Larder Pull Out Wire Basket Kitchen Cabinet Cu...</td>\n",
       "      <td>https://www.ebay.co.uk/itm/292646695298?epid=2...</td>\n",
       "      <td>£229.99</td>\n",
       "      <td>4.0 out of 5 stars.</td>\n",
       "    </tr>\n",
       "    <tr>\n",
       "      <th>20</th>\n",
       "      <td>Van Racking Shelving Universal Metal Rack Stor...</td>\n",
       "      <td>https://www.ebay.co.uk/itm/373611519611?hash=i...</td>\n",
       "      <td>£229.99 to £299.99</td>\n",
       "      <td>No Ratings</td>\n",
       "    </tr>\n",
       "    <tr>\n",
       "      <th>21</th>\n",
       "      <td>Retractable Garden Hose Pipe Wall-Mounted Wate...</td>\n",
       "      <td>https://www.ebay.co.uk/itm/373673613769?hash=i...</td>\n",
       "      <td>£69.99</td>\n",
       "      <td>No Ratings</td>\n",
       "    </tr>\n",
       "    <tr>\n",
       "      <th>22</th>\n",
       "      <td>Wood Chippers Petrol Shredder Wood Mulcher Tim...</td>\n",
       "      <td>https://www.ebay.co.uk/itm/143802537599?hash=i...</td>\n",
       "      <td>£599.99 to £829.99</td>\n",
       "      <td>No Ratings</td>\n",
       "    </tr>\n",
       "    <tr>\n",
       "      <th>23</th>\n",
       "      <td>Garage Shelves Shelving 5 Tier Unit Racking Bo...</td>\n",
       "      <td>https://www.ebay.co.uk/itm/141819889695?hash=i...</td>\n",
       "      <td>£49.99 to £389.99</td>\n",
       "      <td>No Ratings</td>\n",
       "    </tr>\n",
       "    <tr>\n",
       "      <th>24</th>\n",
       "      <td>Composite Decking Boards Edging Wood Plastic F...</td>\n",
       "      <td>https://www.ebay.co.uk/itm/143937286939?hash=i...</td>\n",
       "      <td>£14.99 to £549.99</td>\n",
       "      <td>No Ratings</td>\n",
       "    </tr>\n",
       "    <tr>\n",
       "      <th>25</th>\n",
       "      <td>Metal Lockers Steel Locker Storage School Gym ...</td>\n",
       "      <td>https://www.ebay.co.uk/itm/292636070313?epid=0...</td>\n",
       "      <td>£179.99 to £459.99</td>\n",
       "      <td>No Ratings</td>\n",
       "    </tr>\n",
       "    <tr>\n",
       "      <th>26</th>\n",
       "      <td>Composite Decking Boards Wood Plastic Fixings ...</td>\n",
       "      <td>https://www.ebay.co.uk/itm/293990420847?epid=4...</td>\n",
       "      <td>£14.99 to £549.99</td>\n",
       "      <td>No Ratings</td>\n",
       "    </tr>\n",
       "    <tr>\n",
       "      <th>27</th>\n",
       "      <td>Powder Coating Machine / Curing Oven Wet Paint...</td>\n",
       "      <td>https://www.ebay.co.uk/itm/373677299995?epid=6...</td>\n",
       "      <td>£599.99 to £3,999.99</td>\n",
       "      <td>No Ratings</td>\n",
       "    </tr>\n",
       "    <tr>\n",
       "      <th>28</th>\n",
       "      <td>4 x Furniture Hairpin Leg Feet Protector Floor...</td>\n",
       "      <td>https://www.ebay.co.uk/itm/292449615599?epid=2...</td>\n",
       "      <td>£11.99</td>\n",
       "      <td>No Ratings</td>\n",
       "    </tr>\n",
       "    <tr>\n",
       "      <th>29</th>\n",
       "      <td>4 x Premium Hairpin Table Legs Furniture Bench...</td>\n",
       "      <td>https://www.ebay.co.uk/itm/142669013434?hash=i...</td>\n",
       "      <td>£30.99 to £37.99</td>\n",
       "      <td>No Ratings</td>\n",
       "    </tr>\n",
       "    <tr>\n",
       "      <th>30</th>\n",
       "      <td>4 x Premium Hairpin Table Legs Furniture Desk ...</td>\n",
       "      <td>https://www.ebay.co.uk/itm/142669020939?hash=i...</td>\n",
       "      <td>£42.99 to £49.99</td>\n",
       "      <td>No Ratings</td>\n",
       "    </tr>\n",
       "  </tbody>\n",
       "</table>\n",
       "</div>"
      ],
      "text/plain": [
       "                                         product_name  \\\n",
       "0   Garage Racking 5 Tier Shelving Unit Boltless H...   \n",
       "1   Garage Racking Storage Shelving Unit Shelves S...   \n",
       "2   Pull Out Wire Baskets Kitchen Cabinet Soft Clo...   \n",
       "3   Workbench Garage DIY Work Tools Bench Station ...   \n",
       "4   Garage Racking Galvanised Steel Storage Shelvi...   \n",
       "5   Filing Cabinet Steel Office Furniture Lock Cup...   \n",
       "6   Metal Lockers Steel Staff Storage Lockable Gym...   \n",
       "7   Heavy Duty Racking Garage Shelving Warehouse 1...   \n",
       "8   Workbench With Pegboard Drawer Tool Garage Sto...   \n",
       "9   Van Racking Metal Storage System Tool Shelving...   \n",
       "10  Garage Shelving 120cm Grey Shed Shelves/Wide M...   \n",
       "11  Van Racking Storage Shelving System Ply Tool R...   \n",
       "12  Garage Shelving Heavy Duty Racking Unit Boltle...   \n",
       "13  Swing Gate Opener Electric Operator Automatic ...   \n",
       "14  Garage Shelves Shelving 5 Tier Racking Boltles...   \n",
       "15  Hairpin Table Legs 4 Set Furniture Bench Antiq...   \n",
       "16  6 x Bay Connectors Garage Racking Clips Wareho...   \n",
       "17  4 x Hairpin Table Legs Premium Furniture  FREE...   \n",
       "18  3 Garage Racking Shelving 5 Tier Boltless Heav...   \n",
       "19  Larder Pull Out Wire Basket Kitchen Cabinet Cu...   \n",
       "20  Van Racking Shelving Universal Metal Rack Stor...   \n",
       "21  Retractable Garden Hose Pipe Wall-Mounted Wate...   \n",
       "22  Wood Chippers Petrol Shredder Wood Mulcher Tim...   \n",
       "23  Garage Shelves Shelving 5 Tier Unit Racking Bo...   \n",
       "24  Composite Decking Boards Edging Wood Plastic F...   \n",
       "25  Metal Lockers Steel Locker Storage School Gym ...   \n",
       "26  Composite Decking Boards Wood Plastic Fixings ...   \n",
       "27  Powder Coating Machine / Curing Oven Wet Paint...   \n",
       "28  4 x Furniture Hairpin Leg Feet Protector Floor...   \n",
       "29  4 x Premium Hairpin Table Legs Furniture Bench...   \n",
       "30  4 x Premium Hairpin Table Legs Furniture Desk ...   \n",
       "\n",
       "                                                 link                 price  \\\n",
       "0   https://www.ebay.co.uk/itm/293284972976?hash=i...      £11.99 to £79.99   \n",
       "1   https://www.ebay.co.uk/itm/293499318426?hash=i...      £9.99 to £389.99   \n",
       "2   https://www.ebay.co.uk/itm/142874332315?hash=i...     £59.99 to £169.99   \n",
       "3   https://www.ebay.co.uk/itm/143236551281?epid=1...                £49.99   \n",
       "4   https://www.ebay.co.uk/itm/293499466747?hash=i...      £4.99 to £149.99   \n",
       "5   https://www.ebay.co.uk/itm/292305038394?hash=i...    £139.99 to £189.99   \n",
       "6   https://www.ebay.co.uk/itm/142861576871?hash=i...     £99.99 to £399.99   \n",
       "7   https://www.ebay.co.uk/itm/293943378320?epid=2...      £9.99 to £109.99   \n",
       "8   https://www.ebay.co.uk/itm/373145077655?hash=i...      £89.99 to £99.99   \n",
       "9   https://www.ebay.co.uk/itm/142874480909?hash=i...  £699.99 to £1,059.99   \n",
       "10  https://www.ebay.co.uk/itm/373754081984?hash=i...     £79.99 to £309.99   \n",
       "11  https://www.ebay.co.uk/itm/143218718746?hash=i...    £109.99 to £219.99   \n",
       "12  https://www.ebay.co.uk/itm/294220222858?hash=i...    £139.99 to £149.99   \n",
       "13  https://www.ebay.co.uk/itm/373673499503?hash=i...               £289.99   \n",
       "14  https://www.ebay.co.uk/itm/371216224074?hash=i...     £39.99 to £219.99   \n",
       "15  https://www.ebay.co.uk/itm/373713697649?hash=i...      £22.99 to £52.99   \n",
       "16  https://www.ebay.co.uk/itm/371338964301?hash=i...        £6.99 to £9.99   \n",
       "17  https://www.ebay.co.uk/itm/372204605100?hash=i...      £28.99 to £35.99   \n",
       "18  https://www.ebay.co.uk/itm/293128480741?epid=8...      £5.99 to £109.99   \n",
       "19  https://www.ebay.co.uk/itm/292646695298?epid=2...               £229.99   \n",
       "20  https://www.ebay.co.uk/itm/373611519611?hash=i...    £229.99 to £299.99   \n",
       "21  https://www.ebay.co.uk/itm/373673613769?hash=i...                £69.99   \n",
       "22  https://www.ebay.co.uk/itm/143802537599?hash=i...    £599.99 to £829.99   \n",
       "23  https://www.ebay.co.uk/itm/141819889695?hash=i...     £49.99 to £389.99   \n",
       "24  https://www.ebay.co.uk/itm/143937286939?hash=i...     £14.99 to £549.99   \n",
       "25  https://www.ebay.co.uk/itm/292636070313?epid=0...    £179.99 to £459.99   \n",
       "26  https://www.ebay.co.uk/itm/293990420847?epid=4...     £14.99 to £549.99   \n",
       "27  https://www.ebay.co.uk/itm/373677299995?epid=6...  £599.99 to £3,999.99   \n",
       "28  https://www.ebay.co.uk/itm/292449615599?epid=2...                £11.99   \n",
       "29  https://www.ebay.co.uk/itm/142669013434?hash=i...      £30.99 to £37.99   \n",
       "30  https://www.ebay.co.uk/itm/142669020939?hash=i...      £42.99 to £49.99   \n",
       "\n",
       "                 rating  \n",
       "0            No Ratings  \n",
       "1            No Ratings  \n",
       "2            No Ratings  \n",
       "3   4.5 out of 5 stars.  \n",
       "4            No Ratings  \n",
       "5            No Ratings  \n",
       "6            No Ratings  \n",
       "7            No Ratings  \n",
       "8            No Ratings  \n",
       "9            No Ratings  \n",
       "10           No Ratings  \n",
       "11           No Ratings  \n",
       "12           No Ratings  \n",
       "13           No Ratings  \n",
       "14           No Ratings  \n",
       "15           No Ratings  \n",
       "16           No Ratings  \n",
       "17           No Ratings  \n",
       "18  5.0 out of 5 stars.  \n",
       "19  4.0 out of 5 stars.  \n",
       "20           No Ratings  \n",
       "21           No Ratings  \n",
       "22           No Ratings  \n",
       "23           No Ratings  \n",
       "24           No Ratings  \n",
       "25           No Ratings  \n",
       "26           No Ratings  \n",
       "27           No Ratings  \n",
       "28           No Ratings  \n",
       "29           No Ratings  \n",
       "30           No Ratings  "
      ]
     },
     "execution_count": 70,
     "metadata": {},
     "output_type": "execute_result"
    }
   ],
   "source": [
    "df"
   ]
  },
  {
   "cell_type": "code",
   "execution_count": 139,
   "id": "245486e1",
   "metadata": {},
   "outputs": [],
   "source": [
    "page.find('div', class_=\"vim x-about-this-item\").find('div', text='MPN')"
   ]
  },
  {
   "cell_type": "code",
   "execution_count": 140,
   "id": "e83f7207",
   "metadata": {},
   "outputs": [],
   "source": [
    "response = requests.get(df.link[0])\n",
    "page = BeautifulSoup(response.text, 'html.parser')\n",
    "mpn = page.find('div', class_='ux-layout-section__row', string='MPN:')"
   ]
  },
  {
   "cell_type": "code",
   "execution_count": 132,
   "id": "0b9a8cb3",
   "metadata": {},
   "outputs": [
    {
     "data": {
      "text/plain": [
       "[<div class=\"ux-labels-values__values-content\"><!--F#f_7--><!--F#f_8--><div><span class=\"ux-expandable-textual-display-block-inline\"><span data-testid=\"text\"><!--F#0--><!--F#f_1--><!--F#1[0]--><span><!--F#f_5[0]-->New: A brand-new, unused, unopened and undamaged item in original retail packaging (where packaging ... <!--F/--></span><!--F/--><!--F/--><!--F/--></span><span class=\"ux-expandable-textual-display-block-inline__control\" data-testid=\"viewMore\"><!--F#5--><button class=\"fake-link fake-link--action\" data-clientpresentationmetadata='{\"presentationType\":\"EXPAND_INLINE\"}' data-testid=\"ux-action\" data-vi-tracking='{\"eventFamily\":\"ITM\",\"eventAction\":\"ACTN\",\"actionKind\":\"CLICK\",\"operationId\":\"2047675\",\"flushImmediately\":false,\"eventProperty\":{\"moduledtl\":\"mi:3560|li:106744\",\"sid\":\"p2047675.m3560.l106744\"}}'><!--F#1--><!--F#1[0]--><span><!--F#f_5[0]-->Read more<!--F/--><span class=\"clipped\">about the condition</span></span><!--F/--><!--F/--></button><!--F/--></span></span><span aria-hidden=\"true\" class=\"ux-expandable-textual-display-block-inline hide\" data-testid=\"ux-expandable-textual-display-block-inline\"><span data-testid=\"text\"><!--F#0--><!--F#f_1--><!--F#1[0]--><span><!--F#f_5[0]-->New: A brand-new, unused, unopened and undamaged item in original retail packaging (where packaging is applicable). If the item comes direct from a manufacturer, it may be delivered in non-retail packaging, such as a plain or unprinted box or plastic bag. See the seller's listing for full details. <!--F/--></span><!--F/--><a data-clientpresentationmetadata='{\"presentationType\":\"OPEN_WINDOW\"}' data-testid=\"ux-action\" href=\"https://pages.ebay.co.uk/help/sell/contextual/condition_1.html\" target=\"_blank\"><!--F#11--><span><!--F#f_5[1]-->See all condition definitions<!--F/--><span class=\"clipped\">opens in a new window or tab</span></span><!--F/--></a><!--F/--><!--F/--></span></span></div><!--F/--><!--F/--></div>,\n",
       " <div class=\"ux-labels-values__values-content\"><!--F#f_7--><!--F#f_8--><div><!--F#0--><!--F#f_1--><!--F#1[0]--><span><!--F#f_5[0]-->Adjustable Height Shelves<!--F/--></span><!--F/--><!--F/--><!--F/--></div><!--F/--><!--F/--></div>,\n",
       " <div class=\"ux-labels-values__values-content\"><!--F#f_7--><!--F#f_8--><div><!--F#0--><!--F#f_1--><!--F#1[0]--><span><!--F#f_5[0]-->No<!--F/--></span><!--F/--><!--F/--><!--F/--></div><!--F/--><!--F/--></div>,\n",
       " <div class=\"ux-labels-values__values-content\"><!--F#f_7--><!--F#f_8--><div><!--F#0--><!--F#f_1--><!--F#1[0]--><span><!--F#f_5[0]-->Unknown<!--F/--></span><!--F/--><!--F/--><!--F/--></div><!--F/--><!--F/--></div>,\n",
       " <div class=\"ux-labels-values__values-content\"><!--F#f_7--><!--F#f_8--><div><!--F#0--><!--F#f_1--><!--F#1[0]--><span><!--F#f_5[0]-->Yes<!--F/--></span><!--F/--><!--F/--><!--F/--></div><!--F/--><!--F/--></div>,\n",
       " <div class=\"ux-labels-values__values-content\"><!--F#f_7--><!--F#f_8--><div><!--F#0--><!--F#f_1--><!--F#1[0]--><span><!--F#f_5[0]-->Boltless<!--F/--></span><!--F/--><!--F/--><!--F/--></div><!--F/--><!--F/--></div>,\n",
       " <div class=\"ux-labels-values__values-content\"><!--F#f_7--><!--F#f_8--><div><!--F#0--><!--F#f_1--><!--F#1[0]--><span><!--F#f_5[0]-->Metal<!--F/--></span><!--F/--><!--F/--><!--F/--></div><!--F/--><!--F/--></div>,\n",
       " <div class=\"ux-labels-values__values-content\"><!--F#f_7--><!--F#f_8--><div><!--F#0--><!--F#f_1--><!--F#1[0]--><span><!--F#f_5[0]-->Shelving Bays, Racking Unit, Storage<!--F/--></span><!--F/--><!--F/--><!--F/--></div><!--F/--><!--F/--></div>,\n",
       " <div class=\"ux-labels-values__values-content\"><!--F#f_7--><!--F#f_8--><div><!--F#0--><!--F#f_1--><!--F#1[0]--><span><!--F#f_5[0]-->Workshop, Stock Room Storage<!--F/--></span><!--F/--><!--F/--><!--F/--></div><!--F/--><!--F/--></div>,\n",
       " <div class=\"ux-labels-values__values-content\"><!--F#f_7--><!--F#f_8--><div><!--F#0--><!--F#f_1--><!--F#1[0]--><span><!--F#f_5[0]-->No<!--F/--></span><!--F/--><!--F/--><!--F/--></div><!--F/--><!--F/--></div>,\n",
       " <div class=\"ux-labels-values__values-content\"><!--F#f_7--><!--F#f_8--><div><!--F#0--><!--F#f_1--><!--F#1[0]--><span><!--F#f_5[0]-->Heavy Duty, Adjustable, Thick MDF Shelves, Sturdy Metal, Powder Coated, Corner Unit, Boltless Shelving, Height Adjustable Shelves, Mobile, Portable<!--F/--></span><!--F/--><!--F/--><!--F/--></div><!--F/--><!--F/--></div>,\n",
       " <div class=\"ux-labels-values__values-content\"><!--F#f_7--><!--F#f_8--><div><!--F#0--><!--F#f_1--><!--F#1[0]--><span><!--F#f_5[0]-->5 Tier Shelving Unit<!--F/--></span><!--F/--><!--F/--><!--F/--></div><!--F/--><!--F/--></div>,\n",
       " <div class=\"ux-labels-values__values-content\"><!--F#f_7--><!--F#f_8--><div><!--F#0--><!--F#f_1--><!--F#1[0]--><span><!--F#f_5[0]-->Monster Racking<!--F/--></span><!--F/--><!--F/--><!--F/--></div><!--F/--><!--F/--></div>,\n",
       " <div class=\"ux-labels-values__values-content\"><!--F#f_7--><!--F#f_8--><div><!--F#0--><!--F#f_1--><!--F#1[0]--><span><!--F#f_5[0]-->7006R1V<!--F/--></span><!--F/--><!--F/--><!--F/--></div><!--F/--><!--F/--></div>,\n",
       " <div class=\"ux-labels-values__values-content\"><!--F#f_7--><!--F#f_8--><div><!--F#0--><!--F#f_1--><!--F#1[0]--><span><!--F#f_5[0]-->750kg / 1000kg / 1400kg<!--F/--></span><!--F/--><!--F/--><!--F/--></div><!--F/--><!--F/--></div>,\n",
       " <div class=\"ux-labels-values__values-content\"><!--F#f_7--><!--F#f_8--><div><!--F#0--><!--F#f_1--><!--F#1[0]--><span><!--F#f_5[0]-->Boltless<!--F/--></span><!--F/--><!--F/--><!--F/--></div><!--F/--><!--F/--></div>,\n",
       " <div class=\"ux-labels-values__values-content\"><!--F#f_7--><!--F#f_8--><div><!--F#0--><!--F#f_1--><!--F#1[0]--><span><!--F#f_5[0]-->Racking<!--F/--></span><!--F/--><!--F/--><!--F/--></div><!--F/--><!--F/--></div>,\n",
       " <div class=\"ux-labels-values__values-content\"><!--F#f_7--><!--F#f_8--><div><!--F#0--><!--F#f_1--><!--F#1[0]--><span><!--F#f_5[0]-->90cm (W) x 180cm (H) x 45cm (D)<!--F/--></span><!--F/--><!--F/--><!--F/--></div><!--F/--><!--F/--></div>,\n",
       " <div class=\"ux-labels-values__values-content\"><!--F#f_7--><!--F#f_8--><div><!--F#0--><!--F#f_1--><!--F#1[0]--><span><!--F#f_5[0]-->Free Standing Storage Racking Shelving<!--F/--></span><!--F/--><!--F/--><!--F/--></div><!--F/--><!--F/--></div>,\n",
       " <div class=\"ux-labels-values__values-content\"><!--F#f_7--><!--F#f_8--><div><!--F#0--><!--F#f_1--><!--F#1[0]--><span><!--F#f_5[0]-->Utility/Laundry Room, Children's Bedroom, Playroom<!--F/--></span><!--F/--><!--F/--><!--F/--></div><!--F/--><!--F/--></div>,\n",
       " <div class=\"ux-labels-values__values-content\"><!--F#f_7--><!--F#f_8--><div><!--F#0--><!--F#f_1--><!--F#1[0]--><span><!--F#f_5[0]-->Powder Coated<!--F/--></span><!--F/--><!--F/--><!--F/--></div><!--F/--><!--F/--></div>,\n",
       " <div class=\"ux-labels-values__values-content\"><!--F#f_7--><!--F#f_8--><div><!--F#0--><!--F#f_1--><!--F#1[0]--><span><!--F#f_5[0]-->Study, Kitchen, Living Room, Nursery, Patio, Porch<!--F/--></span><!--F/--><!--F/--><!--F/--></div><!--F/--><!--F/--></div>,\n",
       " <div class=\"ux-labels-values__values-content\"><!--F#f_7--><!--F#f_8--><div><!--F#0--><!--F#f_1--><!--F#1[0]--><span><!--F#f_5[0]-->Yes<!--F/--></span><!--F/--><!--F/--><!--F/--></div><!--F/--><!--F/--></div>,\n",
       " <div class=\"ux-labels-values__values-content\"><!--F#f_7--><!--F#f_8--><div><!--F#0--><!--F#f_1--><!--F#1[0]--><span><!--F#f_5[0]-->45cm / 450mm<!--F/--></span><!--F/--><!--F/--><!--F/--></div><!--F/--><!--F/--></div>,\n",
       " <div class=\"ux-labels-values__values-content\"><!--F#f_7--><!--F#f_8--><div><!--F#0--><!--F#f_1--><!--F#1[0]--><span><!--F#f_5[0]-->Monster Racking<!--F/--></span><!--F/--><!--F/--><!--F/--></div><!--F/--><!--F/--></div>,\n",
       " <div class=\"ux-labels-values__values-content\"><!--F#f_7--><!--F#f_8--><div><!--F#0--><!--F#f_1--><!--F#1[0]--><span><!--F#f_5[0]-->Bay Connectors<!--F/--></span><!--F/--><!--F/--><!--F/--></div><!--F/--><!--F/--></div>,\n",
       " <div class=\"ux-labels-values__values-content\"><!--F#f_7--><!--F#f_8--><div><!--F#0--><!--F#f_1--><!--F#1[0]--><span><!--F#f_5[0]-->90cm / 900mm or 120cm / 1200mm<!--F/--></span><!--F/--><!--F/--><!--F/--></div><!--F/--><!--F/--></div>,\n",
       " <div class=\"ux-labels-values__values-content\"><!--F#f_7--><!--F#f_8--><div><!--F#0--><!--F#f_1--><!--F#1[0]--><span><!--F#f_5[0]-->Office Shelves, Barn Racking, Metal Shelving<!--F/--></span><!--F/--><!--F/--><!--F/--></div><!--F/--><!--F/--></div>,\n",
       " <div class=\"ux-labels-values__values-content\"><!--F#f_7--><!--F#f_8--><div><!--F#0--><!--F#f_1--><!--F#1[0]--><span><!--F#f_5[0]-->22kg<!--F/--></span><!--F/--><!--F/--><!--F/--></div><!--F/--><!--F/--></div>,\n",
       " <div class=\"ux-labels-values__values-content\"><!--F#f_7--><!--F#f_8--><div><!--F#0--><!--F#f_1--><!--F#1[0]--><span><!--F#f_5[0]-->5<!--F/--></span><!--F/--><!--F/--><!--F/--></div><!--F/--><!--F/--></div>,\n",
       " <div class=\"ux-labels-values__values-content\"><!--F#f_7--><!--F#f_8--><div><!--F#0--><!--F#f_1--><!--F#1[0]--><span><!--F#f_5[0]-->Garage Racking, Shed Storage, Warehouse Racking<!--F/--></span><!--F/--><!--F/--><!--F/--></div><!--F/--><!--F/--></div>,\n",
       " <div class=\"ux-labels-values__values-content\"><!--F#f_7--><!--F#f_8--><div><!--F#0--><!--F#f_1--><!--F#1[0]--><span><!--F#f_5[0]-->Yes (Easy Build)<!--F/--></span><!--F/--><!--F/--><!--F/--></div><!--F/--><!--F/--></div>,\n",
       " <div class=\"ux-labels-values__values-content\"><!--F#f_7--><!--F#f_8--><div><!--F#0--><!--F#f_1--><!--F#1[0]--><span><!--F#f_5[0]-->180cm / 1800mm<!--F/--></span><!--F/--><!--F/--><!--F/--></div><!--F/--><!--F/--></div>,\n",
       " <div class=\"ux-labels-values__values-content\"><!--F#f_7--><!--F#f_8--><div><!--F#0--><!--F#f_1--><!--F#1[0]--><span><!--F#f_5[0]-->Free Standing<!--F/--></span><!--F/--><!--F/--><!--F/--></div><!--F/--><!--F/--></div>,\n",
       " <div class=\"ux-labels-values__values-content\"><!--F#f_7--><!--F#f_8--><div><!--F#0--><!--F#f_1--><!--F#1[0]--><span><!--F#f_5[0]-->Shelves<!--F/--></span><!--F/--><!--F/--><!--F/--></div><!--F/--><!--F/--></div>,\n",
       " <div class=\"ux-labels-values__values-content\"><!--F#f_7--><!--F#f_8--><div><!--F#0--><!--F#f_1--><!--F#1[0]--><span><!--F#f_5[0]-->150kg / 200kg / 280kg<!--F/--></span><!--F/--><!--F/--><!--F/--></div><!--F/--><!--F/--></div>,\n",
       " <div class=\"ux-labels-values__values-content\"><!--F#f_7--><!--F#f_8--><div><!--F#0--><!--F#f_1--><!--F#1[0]--><span><!--F#f_5[0]-->Garage Racking 5 Tier Shelving Unit Boltless Heavy<!--F/--></span><!--F/--><!--F/--><!--F/--></div><!--F/--><!--F/--></div>,\n",
       " <div class=\"ux-labels-values__values-content\"><!--F#f_7--><!--F#f_8--><div><!--F#0--><!--F#f_1--><!--F#1[0]--><span><!--F#f_5[0]-->Free Bay Connectors Included<!--F/--></span><!--F/--><!--F/--><!--F/--></div><!--F/--><!--F/--></div>]"
      ]
     },
     "execution_count": 132,
     "metadata": {},
     "output_type": "execute_result"
    }
   ],
   "source": [
    "<div id=\"viTabs_0_is\" class=\"vim x-about-this-item\" data-testid=\"x-about-this-item\"><div data-testid=\"ux-layout-section-module\" class=\"ux-layout-section-module\"><div class=\"section-title\"><div class=\"section-title__title-container\"><h2 class=\"section-title__title\" id=\"ABOUT_THIS_ITEM0-0-1-1-title\"><span data-testid=\"ux-textual-display\" class=\"ux-layout-section-module__title\"><span>Item specifics</span></span></h2></div></div><div data-testid=\"ux-layout-section\" class=\"ux-layout-section ux-layout-section--features\"><div data-testid=\"ux-layout-section__item\" class=\"ux-layout-section__item ux-layout-section__item--table-view\"><div class=\"ux-layout-section__row\"><div class=\"ux-labels-values__labels\"><div class=\"ux-labels-values__labels-content\"><div><span>Condition:</span></div></div></div><div class=\"ux-labels-values__values\"><div class=\"ux-labels-values__values-content\"><div><span class=\"ux-expandable-textual-display-block-inline\"><span data-testid=\"text\"><span>New: A brand-new, unused, unopened and undamaged item in original retail packaging (where packaging ... </span></span><span class=\"ux-expandable-textual-display-block-inline__control\" data-testid=\"viewMore\"><button class=\"fake-link fake-link--action\" data-testid=\"ux-action\" data-clientpresentationmetadata=\"{&quot;presentationType&quot;:&quot;EXPAND_INLINE&quot;}\" data-vi-tracking=\"{&quot;eventFamily&quot;:&quot;ITM&quot;,&quot;eventAction&quot;:&quot;ACTN&quot;,&quot;actionKind&quot;:&quot;CLICK&quot;,&quot;operationId&quot;:&quot;2047675&quot;,&quot;flushImmediately&quot;:false,&quot;eventProperty&quot;:{&quot;moduledtl&quot;:&quot;mi:3560|li:106744&quot;,&quot;sid&quot;:&quot;p2047675.m3560.l106744&quot;}}\"><span>Read more<span class=\"clipped\">about the condition</span></span></button></span></span><span aria-hidden=\"true\" class=\"ux-expandable-textual-display-block-inline hide\" data-testid=\"ux-expandable-textual-display-block-inline\"><span data-testid=\"text\"><span>New: A brand-new, unused, unopened and undamaged item in original retail packaging (where packaging is applicable). If the item comes direct from a manufacturer, it may be delivered in non-retail packaging, such as a plain or unprinted box or plastic bag. See the seller's listing for full details. </span><a href=\"https://pages.ebay.co.uk/help/sell/contextual/condition_1.html\" target=\"_blank\" data-testid=\"ux-action\" data-clientpresentationmetadata=\"{&quot;presentationType&quot;:&quot;OPEN_WINDOW&quot;}\"><span>See all condition definitions<span class=\"clipped\">opens in a new window or tab</span></span></a></span></span></div></div></div><div class=\"ux-labels-values__labels\"><div class=\"ux-labels-values__labels-content\"><div><span>Divider Type:</span></div></div></div><div class=\"ux-labels-values__values\"><div class=\"ux-labels-values__values-content\"><div><span>Adjustable Height Shelves</span></div></div></div></div><div class=\"ux-layout-section__row\"><div class=\"ux-labels-values__labels\"><div class=\"ux-labels-values__labels-content\"><div><span>Modified Item:</span></div></div></div><div class=\"ux-labels-values__values\"><div class=\"ux-labels-values__values-content\"><div><span>No</span></div></div></div><div class=\"ux-labels-values__labels\"><div class=\"ux-labels-values__labels-content\"><div><span>Country/Region of Manufacture:</span></div></div></div><div class=\"ux-labels-values__values\"><div class=\"ux-labels-values__values-content\"><div><span>Unknown</span></div></div></div></div><div class=\"ux-layout-section__row\"><div class=\"ux-labels-values__labels\"><div class=\"ux-labels-values__labels-content\"><div><span>Custom Bundle:</span></div></div></div><div class=\"ux-labels-values__values\"><div class=\"ux-labels-values__values-content\"><div><span>Yes</span></div></div></div><div class=\"ux-labels-values__labels\"><div class=\"ux-labels-values__labels-content\"><div><span>Shelving Style:</span></div></div></div><div class=\"ux-labels-values__values\"><div class=\"ux-labels-values__values-content\"><div><span>Boltless</span></div></div></div></div><div class=\"ux-layout-section__row\"><div class=\"ux-labels-values__labels\"><div class=\"ux-labels-values__labels-content\"><div><span>Material:</span></div></div></div><div class=\"ux-labels-values__values\"><div class=\"ux-labels-values__values-content\"><div><span>Metal</span></div></div></div><div class=\"ux-labels-values__labels\"><div class=\"ux-labels-values__labels-content\"><div><span>Type:</span></div></div></div><div class=\"ux-labels-values__values\"><div class=\"ux-labels-values__values-content\"><div><span>Shelving Bays, Racking Unit, Storage</span></div></div></div></div><div class=\"ux-layout-section__row\"><div class=\"ux-labels-values__labels\"><div class=\"ux-labels-values__labels-content\"><div><span>Application 3:</span></div></div></div><div class=\"ux-labels-values__values\"><div class=\"ux-labels-values__values-content\"><div><span>Workshop, Stock Room Storage</span></div></div></div><div class=\"ux-labels-values__labels\"><div class=\"ux-labels-values__labels-content\"><div><span>Non-Domestic Product:</span></div></div></div><div class=\"ux-labels-values__values\"><div class=\"ux-labels-values__values-content\"><div><span>No</span></div></div></div></div><div class=\"ux-layout-section__row\"><div class=\"ux-labels-values__labels\"><div class=\"ux-labels-values__labels-content\"><div><span>Features:</span></div></div></div><div class=\"ux-labels-values__values\"><div class=\"ux-labels-values__values-content\"><div><span>Heavy Duty, Adjustable, Thick MDF Shelves, Sturdy Metal, Powder Coated, Corner Unit, Boltless Shelving, Height Adjustable Shelves, Mobile, Portable</span></div></div></div><div class=\"ux-labels-values__labels\"><div class=\"ux-labels-values__labels-content\"><div><span>Style:</span></div></div></div><div class=\"ux-labels-values__values\"><div class=\"ux-labels-values__values-content\"><div><span>5 Tier Shelving Unit</span></div></div></div></div><div class=\"ux-layout-section__row\"><div class=\"ux-labels-values__labels\"><div class=\"ux-labels-values__labels-content\"><div><span>Orign:</span></div></div></div><div class=\"ux-labels-values__values\"><div class=\"ux-labels-values__values-content\"><div><span>Monster Racking</span></div></div></div><div class=\"ux-labels-values__labels\"><div class=\"ux-labels-values__labels-content\"><div><span>MPN:</span></div></div></div><div class=\"ux-labels-values__values\"><div class=\"ux-labels-values__values-content\"><div><span>7006R1V</span></div></div></div></div><div class=\"ux-layout-section__row\"><div class=\"ux-labels-values__labels\"><div class=\"ux-labels-values__labels-content\"><div><span>Weight Capacity:</span></div></div></div><div class=\"ux-labels-values__values\"><div class=\"ux-labels-values__values-content\"><div><span>750kg / 1000kg / 1400kg</span></div></div></div><div class=\"ux-labels-values__labels\"><div class=\"ux-labels-values__labels-content\"><div><span>Joining Design:</span></div></div></div><div class=\"ux-labels-values__values\"><div class=\"ux-labels-values__values-content\"><div><span>Boltless</span></div></div></div></div><div class=\"ux-layout-section__row\"><div class=\"ux-labels-values__labels\"><div class=\"ux-labels-values__labels-content\"><div><span>Product Type:</span></div></div></div><div class=\"ux-labels-values__values\"><div class=\"ux-labels-values__values-content\"><div><span>Racking</span></div></div></div><div class=\"ux-labels-values__labels\"><div class=\"ux-labels-values__labels-content\"><div><span>Corner Unit Dimensions:</span></div></div></div><div class=\"ux-labels-values__values\"><div class=\"ux-labels-values__values-content\"><div><span>90cm (W) x 180cm (H) x 45cm (D)</span></div></div></div></div><div class=\"ux-layout-section__row\"><div class=\"ux-labels-values__labels\"><div class=\"ux-labels-values__labels-content\"><div><span>Storage Type:</span></div></div></div><div class=\"ux-labels-values__values\"><div class=\"ux-labels-values__values-content\"><div><span>Free Standing Storage Racking Shelving</span></div></div></div><div class=\"ux-labels-values__labels\"><div class=\"ux-labels-values__labels-content\"><div><span>Room Applications 2:</span></div></div></div><div class=\"ux-labels-values__values\"><div class=\"ux-labels-values__values-content\"><div><span>Utility/Laundry Room, Children's Bedroom, Playroom</span></div></div></div></div><div class=\"ux-layout-section__row\"><div class=\"ux-labels-values__labels\"><div class=\"ux-labels-values__labels-content\"><div><span>Finish:</span></div></div></div><div class=\"ux-labels-values__values\"><div class=\"ux-labels-values__values-content\"><div><span>Powder Coated</span></div></div></div><div class=\"ux-labels-values__labels\"><div class=\"ux-labels-values__labels-content\"><div><span>Room Applications:</span></div></div></div><div class=\"ux-labels-values__values\"><div class=\"ux-labels-values__values-content\"><div><span>Study, Kitchen, Living Room, Nursery, Patio, Porch</span></div></div></div></div><div class=\"ux-layout-section__row\"><div class=\"ux-labels-values__labels\"><div class=\"ux-labels-values__labels-content\"><div><span>Corner Configuration:</span></div></div></div><div class=\"ux-labels-values__values\"><div class=\"ux-labels-values__values-content\"><div><span>Yes</span></div></div></div><div class=\"ux-labels-values__labels\"><div class=\"ux-labels-values__labels-content\"><div><span>Depth:</span></div></div></div><div class=\"ux-labels-values__values\"><div class=\"ux-labels-values__values-content\"><div><span>45cm / 450mm</span></div></div></div></div><div class=\"ux-layout-section__row\"><div class=\"ux-labels-values__labels\"><div class=\"ux-labels-values__labels-content\"><div><span>Brand:</span></div></div></div><div class=\"ux-labels-values__values\"><div class=\"ux-labels-values__values-content\"><div><span>Monster Racking</span></div></div></div><div class=\"ux-labels-values__labels\"><div class=\"ux-labels-values__labels-content\"><div><span>Part &amp; Accessory Type:</span></div></div></div><div class=\"ux-labels-values__values\"><div class=\"ux-labels-values__values-content\"><div><span>Bay Connectors</span></div></div></div></div><div class=\"ux-layout-section__row\"><div class=\"ux-labels-values__labels\"><div class=\"ux-labels-values__labels-content\"><div><span>Width:</span></div></div></div><div class=\"ux-labels-values__values\"><div class=\"ux-labels-values__values-content\"><div><span>90cm / 900mm or 120cm / 1200mm</span></div></div></div><div class=\"ux-labels-values__labels\"><div class=\"ux-labels-values__labels-content\"><div><span>Application 2:</span></div></div></div><div class=\"ux-labels-values__values\"><div class=\"ux-labels-values__values-content\"><div><span>Office Shelves, Barn Racking, Metal Shelving</span></div></div></div></div><div class=\"ux-layout-section__row\"><div class=\"ux-labels-values__labels\"><div class=\"ux-labels-values__labels-content\"><div><span>Weight:</span></div></div></div><div class=\"ux-labels-values__values\"><div class=\"ux-labels-values__values-content\"><div><span>22kg</span></div></div></div><div class=\"ux-labels-values__labels\"><div class=\"ux-labels-values__labels-content\"><div><span>Number of Shelves:</span></div></div></div><div class=\"ux-labels-values__values\"><div class=\"ux-labels-values__values-content\"><div><span>5</span></div></div></div></div><div class=\"ux-layout-section__row\"><div class=\"ux-labels-values__labels\"><div class=\"ux-labels-values__labels-content\"><div><span>Application 1:</span></div></div></div><div class=\"ux-labels-values__values\"><div class=\"ux-labels-values__values-content\"><div><span>Garage Racking, Shed Storage, Warehouse Racking</span></div></div></div><div class=\"ux-labels-values__labels\"><div class=\"ux-labels-values__labels-content\"><div><span>Assembly Required:</span></div></div></div><div class=\"ux-labels-values__values\"><div class=\"ux-labels-values__values-content\"><div><span>Yes (Easy Build)</span></div></div></div></div><div class=\"ux-layout-section__row\"><div class=\"ux-labels-values__labels\"><div class=\"ux-labels-values__labels-content\"><div><span>Height:</span></div></div></div><div class=\"ux-labels-values__values\"><div class=\"ux-labels-values__values-content\"><div><span>180cm / 1800mm</span></div></div></div><div class=\"ux-labels-values__labels\"><div class=\"ux-labels-values__labels-content\"><div><span>Mounting:</span></div></div></div><div class=\"ux-labels-values__values\"><div class=\"ux-labels-values__values-content\"><div><span>Free Standing</span></div></div></div></div><div class=\"ux-layout-section__row\"><div class=\"ux-labels-values__labels\"><div class=\"ux-labels-values__labels-content\"><div><span>Hardware Accessory:</span></div></div></div><div class=\"ux-labels-values__values\"><div class=\"ux-labels-values__values-content\"><div><span>Shelves</span></div></div></div><div class=\"ux-labels-values__labels\"><div class=\"ux-labels-values__labels-content\"><div><span>Maximum Weight Per Shelf:</span></div></div></div><div class=\"ux-labels-values__values\"><div class=\"ux-labels-values__values-content\"><div><span>150kg / 200kg / 280kg</span></div></div></div></div><div class=\"ux-layout-section__row\"><div class=\"ux-labels-values__labels\"><div class=\"ux-labels-values__labels-content\"><div><span>Description:</span></div></div></div><div class=\"ux-labels-values__values\"><div class=\"ux-labels-values__values-content\"><div><span>Garage Racking 5 Tier Shelving Unit Boltless Heavy</span></div></div></div><div class=\"ux-labels-values__labels\"><div class=\"ux-labels-values__labels-content\"><div><span>Bundle Description:</span></div></div></div><div class=\"ux-labels-values__values\"><div class=\"ux-labels-values__values-content\"><div><span>Free Bay Connectors Included</span></div></div></div></div></div></div></div></div>"
   ]
  },
  {
   "cell_type": "code",
   "execution_count": 125,
   "id": "cfeed16f",
   "metadata": {},
   "outputs": [
    {
     "data": {
      "text/plain": [
       "'https://www.ebay.co.uk/itm/293284972976?hash=item44492589b0:g:IBsAAOSwmXtdqcyu'"
      ]
     },
     "execution_count": 125,
     "metadata": {},
     "output_type": "execute_result"
    }
   ],
   "source": [
    "df.link[0]"
   ]
  },
  {
   "cell_type": "code",
   "execution_count": null,
   "id": "feba7538",
   "metadata": {},
   "outputs": [],
   "source": [
    "<div class=\"ux-layout-section__row\"><div class=\"ux-labels-values__labels\"><div class=\"ux-labels-values__labels-content\"><div><span>Orign:</span></div></div></div><div class=\"ux-labels-values__values\"><div class=\"ux-labels-values__values-content\"><div><span>Monster Racking</span></div></div></div><div class=\"ux-labels-values__labels\"><div class=\"ux-labels-values__labels-content\"><div><span>MPN:</span></div></div></div><div class=\"ux-labels-values__values\"><div class=\"ux-labels-values__values-content\"><div><span>7006R1V</span></div></div></div></div>"
   ]
  }
 ],
 "metadata": {
  "kernelspec": {
   "display_name": "Python 3",
   "language": "python",
   "name": "python3"
  },
  "language_info": {
   "codemirror_mode": {
    "name": "ipython",
    "version": 3
   },
   "file_extension": ".py",
   "mimetype": "text/x-python",
   "name": "python",
   "nbconvert_exporter": "python",
   "pygments_lexer": "ipython3",
   "version": "3.8.8"
  }
 },
 "nbformat": 4,
 "nbformat_minor": 5
}
